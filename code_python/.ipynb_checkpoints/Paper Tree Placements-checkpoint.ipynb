{
 "cells": [
  {
   "cell_type": "code",
   "execution_count": null,
   "id": "b771f916",
   "metadata": {},
   "outputs": [],
   "source": [
    "import pandas as pd\n",
    "import numpy as np\n",
    "from scipy.optimize import minimize"
   ]
  },
  {
   "cell_type": "code",
   "execution_count": null,
   "id": "0cb63d63",
   "metadata": {},
   "outputs": [],
   "source": [
    "# read in data - ouytput of GWR and ML models\n",
    "df = pd.read_csv('minimize_data.csv')\n",
    "\n",
    "\n",
    "# ignore the blocks that can't be allocated trees\n",
    "df = df[df[\"number_potential_trees\"]>0]\n",
    "df = df[df[\"teffect_cover\"]<=-0.8840332]\n",
    "\n",
    "#df = df.head(5000)"
   ]
  },
  {
   "cell_type": "code",
   "execution_count": null,
   "id": "74f48b8e",
   "metadata": {},
   "outputs": [],
   "source": [
    "print(len(df))\n",
    "df.head()"
   ]
  },
  {
   "cell_type": "markdown",
   "id": "0ed12fc6",
   "metadata": {},
   "source": [
    "# Temperature Scenario # 1"
   ]
  },
  {
   "cell_type": "code",
   "execution_count": null,
   "id": "a05683c9",
   "metadata": {},
   "outputs": [],
   "source": [
    "# For city blocks i in 1:40,000:\n",
    "# Distribute trees t in 1:75,000:\n",
    "# Such that Mean Temperature across all blocks is minimized: \n",
    "# (Constraint) And where ti (trees distributed to block i) must be < available tree space in block i:\n",
    " \n",
    "# Temperaturei = Ai * (estimated tree cover + ti) \n",
    " \n",
    "# Ai ; Bi ; Ci  have all been calculated at the city block level via GWR\n",
    "\n",
    "\n",
    "trees_to_distribute = 75000 # will be 75,000 in final model based on Chicago policy\n",
    "\n",
    "blocks = np.array(df[\"geoid10\"]) # final set of equations will have 40k+ blocks\n",
    "xintercept = np.array(df[\"xintercept_cover\"]).astype(\"float32\")\n",
    "tcover_effect = np.array(df[\"teffect_cover\"]).astype(\"float32\") # comes from GWR\n",
    "cluster_tree_constraints = np.array(df[\"number_potential_trees\"]).astype(\"int32\") # calculated based on available vegetation space w/o trees currently\n",
    "\n",
    "current_trees = np.array(df[\"pct_tree_cover\"]).astype(\"float32\") # from UNet, predicted tree cover\n",
    "\n",
    "\n",
    "tree_factor= np.array(df[\"area_added_by_tree\"]).astype(\"float32\") # This is the pct of cover increased for each additional tree (per block)\n",
    "\n",
    "# calculate baseline temp based on GWR\n",
    "current_mean_temp = xintercept + tcover_effect*(current_trees)"
   ]
  },
  {
   "cell_type": "code",
   "execution_count": null,
   "id": "7188e329",
   "metadata": {},
   "outputs": [],
   "source": [
    "%%time\n",
    "# Temperaturei = Ai * (estimated tree cover + ti) \n",
    "def eq( p ):\n",
    "    minimize_array = p\n",
    "    function_array = xintercept + tcover_effect*(current_trees + (minimize_array*tree_factor))\n",
    "    final_temp = np.mean(function_array)\n",
    "    return (final_temp)\n",
    "\n",
    "# Set boundary values between 0 and max # of trees that can be added\n",
    "bnds = [(0, x) for x in cluster_tree_constraints]\n",
    "bnds = tuple(bnds)\n",
    "\n",
    "# Force it to distribute exactly 75,000 trees\n",
    "def con1(p):\n",
    "    return sum(p) - trees_to_distribute\n",
    "\n",
    "cons= ( { 'type' : 'eq', 'fun': con1} )\n",
    "\n",
    "\n",
    "final=minimize( eq, tuple(np.random.randint(0,100,5000).astype(\"int32\")),  bounds=bnds, constraints=cons )\n",
    "\n",
    "# CPU times: total: 44min 32s\n",
    "# Wall time: 46min 38s"
   ]
  },
  {
   "cell_type": "code",
   "execution_count": null,
   "id": "5b856811",
   "metadata": {},
   "outputs": [],
   "source": [
    "# Looks to be working fine, will try on full dataset...\n",
    "print(final)\n",
    "print(np.sum(final[\"x\"]))\n",
    "\n",
    "# This seems to work; now just need to figure out how to scale this up when there are 40k blocks and 40k of each of the GWR tree effect values\n",
    "\n",
    "print(\"Total # of trees allocated:\", sum(final.x))\n",
    "print(f\"Cluster {blocks[3]} is allocated {np.round(final.x[3])}  trees\")\n",
    "\n",
    "print(np.round(final[\"x\"]))\n",
    "print(cluster_tree_constraints)\n",
    "\n",
    "#   fun: 0.12623861589868213\n",
    "#      jac: array([-2.79396772e-07, -1.93715096e-07, -3.93018126e-07, ...,\n",
    "#        -6.37024641e-07, -6.91041350e-07, -1.15483999e-06])\n",
    "#  message: 'Optimization terminated successfully'\n",
    "#     nfev: 10003\n",
    "#      nit: 2\n",
    "#     njev: 2\n",
    "#   status: 0\n",
    "#  success: True\n",
    "#        x: array([1.80240461e+01, 3.30240459e+01, 2.53117267e-21, ...,\n",
    "#        0.00000000e+00, 0.00000000e+00, 1.72825665e-07])\n",
    "# 74999.99999999983\n",
    "# Total # of trees allocated: 74999.9999999998\n",
    "# Cluster 170317402004007 is allocated 0.0  trees\n",
    "# [18. 33.  0. ...  0.  0.  0.]\n",
    "# [384 547 192 ...  76  15   7]"
   ]
  },
  {
   "cell_type": "code",
   "execution_count": null,
   "id": "52fca7d2",
   "metadata": {},
   "outputs": [],
   "source": [
    "# Save results\n",
    "#allocated_trees=np.round(final[\"x\"])\n",
    "#df[\"allocated_trees\"] = allocated_trees\n",
    "# allocated_trees =  pd.read_csv('paper_allocated_trees_coveralone.csv')\n",
    "# df[\"allocated_trees\"] = np.array(allocated_trees[\"allocated_trees_coveralone\"])\n",
    "# df.to_csv(/paper_allocated_trees_coveralone.csv\")"
   ]
  },
  {
   "cell_type": "markdown",
   "id": "13e33f2f",
   "metadata": {},
   "source": [
    "# Temperature Scenario # 2"
   ]
  },
  {
   "cell_type": "code",
   "execution_count": null,
   "id": "f35b5056",
   "metadata": {},
   "outputs": [],
   "source": [
    "# read in data\n",
    "df = pd.read_csv('minimize_data.csv')\n",
    "\n",
    "\n",
    "# ignore the blocks that can't be allocated trees\n",
    "df = df[df[\"number_potential_trees\"]>0]\n",
    "df = df[df[\"teffect_cover\"]<=-0.8866490]\n"
   ]
  },
  {
   "cell_type": "code",
   "execution_count": null,
   "id": "93c9e584",
   "metadata": {},
   "outputs": [],
   "source": [
    "# Temperature Scenario # 2\n",
    "# For city blocks i in 1:40,000:\n",
    "# Distribute trees t in 1:75,000:\n",
    "# Such that Mean Temperature across all blocks is minimized: \n",
    "# (Constraint) And where ti (trees distributed to block i) must be < available tree space in block i:\n",
    " \n",
    "# Temperaturei = Ai * (estimated tree cover + ti) +  Bi * (estimated canopy height + ti) + Ci*(estimated tree cover + ti)*(estimated canopy height + ti)\n",
    " \n",
    "# Ai ; Bi ; Ci  have all been calculated at the city block level via GWR\n",
    "\n",
    "trees_to_distribute = 75000 # will be 75,000 in final model\n",
    "\n",
    "blocks = np.array(df[\"geoid10\"]) # final set of equations will have 40k+ blocks\n",
    "theight_effect = np.array(df[\"heighteffect_coverxheight\"]).astype(\"float32\")\n",
    "tinteraction_effect = np.array(df[\"interactioneffect_coverxheight\"]).astype(\"float32\") # comes from GWR\n",
    "\n",
    "xintercept = np.array(df[\"xintercept_coverxheight\"]).astype(\"float32\")\n",
    "tcover_effect = np.array(df[\"teffect_coverxheight\"]).astype(\"float32\") # comes from GWR\n",
    "cluster_tree_constraints = np.array(df[\"number_potential_trees\"]).astype(\"int32\") # calculated based on available vegetation space w/o trees currently\n",
    "\n",
    "current_trees = np.array(df[\"pct_tree_cover\"]).astype(\"float32\") # from UNet, predicted tree cover\n",
    "current_height = np.array(df[\"avg_canopy_height_scaled\"]).astype(\"float32\") # from UNet, predicted tree cover\n",
    "\n",
    "tree_factor= np.array(df[\"area_added_by_tree\"]).astype(\"float32\") # This is the pct of cover increased for each additional tree (per block)"
   ]
  },
  {
   "cell_type": "code",
   "execution_count": null,
   "id": "bfe3ed99",
   "metadata": {},
   "outputs": [],
   "source": [
    "%%time\n",
    "# Temperaturei = Ai * (estimated tree cover + ti) +  Bi * (estimated canopy height + ti) + Ci*(estimated tree cover + ti)*(estimated canopy height + ti)\n",
    "def eq( p ):\n",
    "    minimize_array = p\n",
    "    function_array = xintercept + (tcover_effect*(current_trees + (minimize_array*tree_factor))) + (theight_effect*current_height) + (tinteraction_effect*(current_trees + (minimize_array*tree_factor))*current_height)\n",
    "    final_temp = np.mean(function_array)\n",
    "    return (final_temp)\n",
    "\n",
    "# Set boundary values between 0 and max # of trees that can be added\n",
    "bnds = [(0, x) for x in cluster_tree_constraints]\n",
    "bnds = tuple(bnds)\n",
    "\n",
    "# Force it to distribute exactly 1,000 trees\n",
    "def con1(p):\n",
    "    return sum(p) - trees_to_distribute\n",
    "\n",
    "cons= ( { 'type' : 'eq', 'fun': con1} )\n",
    "\n",
    "\n",
    "final=minimize( eq, tuple(np.random.randint(0,100,4958).astype(\"int32\")),  bounds=bnds, constraints=cons )\n",
    "\n",
    "# CPU times: total: 43min 38s\n",
    "# Wall time: 55min 5s"
   ]
  },
  {
   "cell_type": "code",
   "execution_count": null,
   "id": "05735e42",
   "metadata": {},
   "outputs": [],
   "source": [
    "# Looks to be working fine, will try on full dataset...\n",
    "print(final)\n",
    "print(np.sum(final[\"x\"]))\n",
    "\n",
    "# This seems to work; now just need to figure out how to scale this up when there are 40k blocks and 40k of each of the GWR tree effect values\n",
    "\n",
    "print(\"Total # of trees allocated:\", sum(final.x))\n",
    "print(f\"Cluster {blocks[3]} is allocated {np.round(final.x[3])}  trees\")\n",
    "\n",
    "print(np.round(final[\"x\"]))\n",
    "print(cluster_tree_constraints)\n",
    "\n",
    "#    fun: 0.1326607622800871\n",
    "#      jac: array([-3.40864062e-07, -2.79396772e-07, -4.33996320e-07, ...,\n",
    "#        -7.35744834e-07, -6.50063157e-07, -6.14672899e-07])\n",
    "#  message: 'Optimization terminated successfully'\n",
    "#     nfev: 9919\n",
    "#      nit: 2\n",
    "#     njev: 2\n",
    "#   status: 0\n",
    "#  success: True\n",
    "#        x: array([20.88863432, 25.88863421, 40.88863452, ..., 38.88863512,\n",
    "#         0.        ,  0.        ])\n",
    "# 75000.00000000017\n",
    "# Total # of trees allocated: 75000.0000000001\n",
    "# Cluster 170317402004007 is allocated 0.0  trees\n",
    "# [21. 26. 41. ... 39.  0.  0.]\n",
    "# [384 547 192 ...  76  15   7]"
   ]
  },
  {
   "cell_type": "code",
   "execution_count": null,
   "id": "bd921e62",
   "metadata": {},
   "outputs": [],
   "source": [
    "# Save results\n",
    "# allocated_trees=np.round(final[\"x\"])\n",
    "\n",
    "# df[\"allocated_trees\"] = allocated_trees\n",
    "# df.to_csv(\"paper_allocated_trees_coverheight.csv\")\n",
    "\n",
    "# # allocated_trees =  pd.read_csv('paper_allocated_trees_coverheight.csv')\n",
    "# # df[\"allocated_trees\"] = np.array(allocated_trees[\"allocated_trees_coverheight\"])\n",
    "# # df.to_csv(\"paper_allocated_trees_coverheight2.csv\")"
   ]
  },
  {
   "cell_type": "markdown",
   "id": "42c6f603",
   "metadata": {},
   "source": [
    "# Equality Scenario # 1"
   ]
  },
  {
   "cell_type": "code",
   "execution_count": null,
   "id": "47369d1f",
   "metadata": {},
   "outputs": [],
   "source": [
    "# read in data\n",
    "df = pd.read_csv('minimize_data.csv')\n",
    "\n",
    "\n",
    "# ignore the blocks that can't be allocated trees\n",
    "df = df[df[\"number_potential_trees\"]>0]\n",
    "df2=df.copy()\n",
    "df2 = df2[df2[\"pct_tree_cover\"]>0.22]\n",
    "df = df[df[\"pct_tree_cover\"]<=0.22]\n"
   ]
  },
  {
   "cell_type": "code",
   "execution_count": null,
   "id": "ef541c28",
   "metadata": {},
   "outputs": [],
   "source": [
    "def gini(x):\n",
    "    total = 0\n",
    "    for i, xi in enumerate(x[:-1], 1):\n",
    "        total += np.sum(np.abs(xi - x[i:]))\n",
    "    return total / (len(x)**2 * np.mean(x))"
   ]
  },
  {
   "cell_type": "code",
   "execution_count": null,
   "id": "64c6378e",
   "metadata": {},
   "outputs": [],
   "source": [
    "# For city blocks i in 1:40,000:\n",
    "# Distribute trees t in 1:75,000:\n",
    "# Such that Gini Coefficient across all blocks is minimized: \n",
    "# (Constraint) And where ti (trees distributed to block i) must be < available tree space in block i:\n",
    " \n",
    "# Temperaturei = Ai * (estimated tree cover + ti) +  Bi * (estimated canopy height + ti) + Ci*(estimated tree cover + ti)*(estimated canopy height + ti)\n",
    " \n",
    "# Ai ; Bi ; Ci  have all been calculated at the city block level via GWR\n",
    "\n",
    "old_tree_distribution =np.array(df2[\"pct_tree_cover\"]).astype(\"float32\") # from UNet, predicted tree cover\n",
    "\n",
    "trees_to_distribute = 75000 # will be 75,000 in final model\n",
    "\n",
    "cluster_tree_constraints = np.array(df[\"number_potential_trees\"]).astype(\"int32\") # calculated based on available vegetation space w/o trees currently\n",
    "\n",
    "current_trees = np.array(df[\"pct_tree_cover\"]).astype(\"float32\") # from UNet, predicted tree cover\n",
    "current_height = np.array(df[\"avg_canopy_height_scaled\"]).astype(\"float32\") # from UNet, predicted tree cover\n",
    "\n",
    "tree_factor= np.array(df[\"area_added_by_tree\"]).astype(\"float32\") # This is the pct of cover increased for each additional tree (per block)"
   ]
  },
  {
   "cell_type": "code",
   "execution_count": null,
   "id": "0ced34f5",
   "metadata": {},
   "outputs": [],
   "source": [
    "%%time\n",
    "# Temperaturei = Ai * (estimated tree cover + ti) +  Bi * (estimated canopy height + ti) + Ci*(estimated tree cover + ti)*(estimated canopy height + ti)\n",
    "def eq( p ):\n",
    "    minimize_array = p\n",
    "    new_tree_distribution =  current_trees + (minimize_array*tree_factor)\n",
    "    temp_gini =  gini(np.append(new_tree_distribution, old_tree_distribution))\n",
    "    return (temp_gini)\n",
    "\n",
    "# Set boundary values between 0 and max # of trees that can be added\n",
    "bnds = [(0, x) for x in cluster_tree_constraints]\n",
    "bnds = tuple(bnds)\n",
    "\n",
    "# Force it to distribute exactly 1,000 trees\n",
    "def con1(p):\n",
    "    return sum(p) - trees_to_distribute\n",
    "\n",
    "cons= ( { 'type' : 'eq', 'fun': con1} )\n",
    "\n",
    "\n",
    "final=minimize( eq, tuple(np.random.randint(0,100,11577).astype(\"int32\")),  bounds=bnds, constraints=cons )"
   ]
  },
  {
   "cell_type": "code",
   "execution_count": null,
   "id": "169c3f6f",
   "metadata": {},
   "outputs": [],
   "source": [
    "# Save\n",
    "# print(\"Total # of trees allocated:\", sum(final.x))\n",
    "# print(np.round(final[\"x\"]))\n",
    "# print(cluster_tree_constraints)\n",
    "\n",
    "# allocated_trees=np.round(final[\"x\"])\n",
    "\n",
    "# df[\"allocated_trees\"] = allocated_trees\n",
    "# df.to_csv(\"paper_allocated_trees_equity.csv\")"
   ]
  },
  {
   "cell_type": "markdown",
   "id": "d4080d7a",
   "metadata": {},
   "source": [
    "# Equality Scenario # 2"
   ]
  },
  {
   "cell_type": "code",
   "execution_count": null,
   "id": "bedf2c13",
   "metadata": {},
   "outputs": [],
   "source": [
    "# read in data\n",
    "df = pd.read_csv('D:/final_data/paper_data/minimize_data.csv')\n",
    "\n",
    "\n",
    "# ignore the blocks that can't be allocated trees\n",
    "df = df[df[\"number_potential_trees\"]>0]\n",
    "df2=df.copy()\n",
    "df = df[df[\"pct_tree_cover\"]<=0.22]\n",
    "df = df[df[\"avg_canopy_height_scaled\"]<=.3]\n",
    "\n",
    "df2 = df2[~df2.index.isin(df.index)]"
   ]
  },
  {
   "cell_type": "code",
   "execution_count": null,
   "id": "5644a60c",
   "metadata": {},
   "outputs": [],
   "source": [
    "def gini(x):\n",
    "    total = 0\n",
    "    for i, xi in enumerate(x[:-1], 1):\n",
    "        total += np.sum(np.abs(xi - x[i:]))\n",
    "    return total / (len(x)**2 * np.mean(x))"
   ]
  },
  {
   "cell_type": "code",
   "execution_count": null,
   "id": "2756e619",
   "metadata": {},
   "outputs": [],
   "source": [
    "# For city blocks i in 1:40,000:\n",
    "# Distribute trees t in 1:75,000:\n",
    "# Such that Gini Coefficient across all blocks is minimized: \n",
    "# (Constraint) And where ti (trees distributed to block i) must be < available tree space in block i:\n",
    " \n",
    "# Temperaturei = Ai * (estimated tree cover + ti) +  Bi * (estimated canopy height + ti) + Ci*(estimated tree cover + ti)*(estimated canopy height + ti)\n",
    " \n",
    "# Ai ; Bi ; Ci  have all been calculated at the city block level via GWR\n",
    "\n",
    "old_tree_distribution =np.array(df2[\"pct_tree_cover\"]).astype(\"float32\") # from UNet, predicted tree cover\n",
    "old_height_distribution =np.array(df2[\"avg_canopy_height_scaled\"]).astype(\"float32\") # from UNet, predicted tree cover\n",
    "\n",
    "trees_to_distribute = 75000 # will be 75,000 in final model\n",
    "\n",
    "cluster_tree_constraints = np.array(df[\"number_potential_trees\"]).astype(\"int32\") # calculated based on available vegetation space w/o trees currently\n",
    "\n",
    "current_trees = np.array(df[\"pct_tree_cover\"]).astype(\"float32\") # from UNet, predicted tree cover\n",
    "current_height = np.array(df[\"avg_canopy_height_scaled\"]).astype(\"float32\") # from UNet, predicted tree cover\n",
    "\n",
    "tree_factor= np.array(df[\"area_added_by_tree\"]).astype(\"float32\") # This is the pct of cover increased for each additional tree (per block)\n",
    "height_factor=3.800962 # 0.2753555 feet increase in height for a 1% increase in pct_tree cover"
   ]
  },
  {
   "cell_type": "code",
   "execution_count": null,
   "id": "e6ed8c91",
   "metadata": {},
   "outputs": [],
   "source": [
    "%%time\n",
    "# Temperaturei = Ai * (estimated tree cover + ti) +  Bi * (estimated canopy height + ti) + Ci*(estimated tree cover + ti)*(estimated canopy height + ti)\n",
    "def eq( p ):\n",
    "    minimize_array = p\n",
    "    new_tree_distribution =  current_trees + (minimize_array*tree_factor)\n",
    "    temp_gini1 =  gini(np.append(new_tree_distribution, old_tree_distribution))\n",
    "    \n",
    "    # add in height as a factor which gives a bonus based on pct_tree_cover gained\n",
    "    new_height_distribution =  (current_height + ((minimize_array*tree_factor)*height_factor))\n",
    "    temp_gini2 =  gini(np.append(new_height_distribution, old_height_distribution))\n",
    "    \n",
    "    # minimize the sum of both ginis\n",
    "    temp_gini = temp_gini1 + temp_gini2\n",
    "    \n",
    "    return (temp_gini)\n",
    "\n",
    "# Set boundary values between 0 and max # of trees that can be added\n",
    "bnds = [(0, x) for x in cluster_tree_constraints]\n",
    "bnds = tuple(bnds)\n",
    "\n",
    "# Force it to distribute exactly 1,000 trees\n",
    "def con1(p):\n",
    "    return sum(p) - trees_to_distribute\n",
    "\n",
    "cons= ( { 'type' : 'eq', 'fun': con1} )\n",
    "\n",
    "\n",
    "final=minimize( eq, tuple(np.random.randint(0,100,6910).astype(\"int32\")),  bounds=bnds, constraints=cons )"
   ]
  },
  {
   "cell_type": "code",
   "execution_count": null,
   "id": "66e109ac",
   "metadata": {},
   "outputs": [],
   "source": [
    "# Save\n",
    "# print(final)\n",
    "# print(np.sum(final[\"x\"]))\n",
    "# print(\"Total # of trees allocated:\", sum(final.x))\n",
    "# print(np.round(final[\"x\"]))\n",
    "# print(cluster_tree_constraints)\n",
    "\n",
    "# allocated_trees=np.round(final[\"x\"])\n",
    "\n",
    "# df[\"allocated_trees\"] = allocated_trees\n",
    "# df.to_csv(\"paper_allocated_trees_equityheight.csv\")"
   ]
  }
 ],
 "metadata": {
  "kernelspec": {
   "display_name": "Python 3 (ipykernel)",
   "language": "python",
   "name": "python3"
  },
  "language_info": {
   "codemirror_mode": {
    "name": "ipython",
    "version": 3
   },
   "file_extension": ".py",
   "mimetype": "text/x-python",
   "name": "python",
   "nbconvert_exporter": "python",
   "pygments_lexer": "ipython3",
   "version": "3.9.12"
  }
 },
 "nbformat": 4,
 "nbformat_minor": 5
}
